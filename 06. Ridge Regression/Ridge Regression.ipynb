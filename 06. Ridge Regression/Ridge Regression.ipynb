{
 "cells": [
  {
   "cell_type": "markdown",
   "metadata": {},
   "source": [
    "# Ridge Regression"
   ]
  },
  {
   "cell_type": "markdown",
   "metadata": {},
   "source": [
    "Ridge regression or L2 Regularization analyzing multiple regression data that suffer from multicollinearity. When multicollinearity occurs, least squares estimates are unbiased, but their variances are large so they may be far from the true value.It avoids the problem of Overfitting."
   ]
  },
  {
   "cell_type": "code",
   "execution_count": 82,
   "metadata": {},
   "outputs": [],
   "source": [
    "# importing the modules.\n",
    "\n",
    "import pandas as pd\n",
    "import numpy as np\n",
    "import matplotlib.pyplot as plt\n",
    "from sklearn.preprocessing import scale\n",
    "from sklearn.linear_model import LinearRegression\n",
    "from sklearn.linear_model import Ridge\n",
    "from sklearn.metrics import r2_score\n",
    "from sklearn.model_selection import train_test_split\n",
    "from sklearn.metrics import mean_squared_error"
   ]
  },
  {
   "cell_type": "code",
   "execution_count": 65,
   "metadata": {},
   "outputs": [],
   "source": [
    "#reading the csv data.\n",
    "\n",
    "# Here: Unemployment Data is taken for data analysis.\n",
    "\n",
    "f = pd.read_csv('unemployment.csv')"
   ]
  },
  {
   "cell_type": "code",
   "execution_count": 66,
   "metadata": {},
   "outputs": [
    {
     "name": "stdout",
     "output_type": "stream",
     "text": [
      "<class 'pandas.core.frame.DataFrame'>\n",
      "RangeIndex: 478 entries, 0 to 477\n",
      "Data columns (total 7 columns):\n",
      " #   Column      Non-Null Count  Dtype  \n",
      "---  ------      --------------  -----  \n",
      " 0   Unnamed: 0  478 non-null    int64  \n",
      " 1   date        478 non-null    object \n",
      " 2   pce         478 non-null    float64\n",
      " 3   pop         478 non-null    int64  \n",
      " 4   psavert     478 non-null    float64\n",
      " 5   uempmed     478 non-null    float64\n",
      " 6   unemploy    478 non-null    int64  \n",
      "dtypes: float64(3), int64(3), object(1)\n",
      "memory usage: 26.3+ KB\n"
     ]
    }
   ],
   "source": [
    "f.info()\n",
    "\n",
    "# Every column has non-null data.\n",
    "# 478 Rows, 7 Columns"
   ]
  },
  {
   "cell_type": "code",
   "execution_count": 67,
   "metadata": {},
   "outputs": [
    {
     "data": {
      "text/html": [
       "<div>\n",
       "<style scoped>\n",
       "    .dataframe tbody tr th:only-of-type {\n",
       "        vertical-align: middle;\n",
       "    }\n",
       "\n",
       "    .dataframe tbody tr th {\n",
       "        vertical-align: top;\n",
       "    }\n",
       "\n",
       "    .dataframe thead th {\n",
       "        text-align: right;\n",
       "    }\n",
       "</style>\n",
       "<table border=\"1\" class=\"dataframe\">\n",
       "  <thead>\n",
       "    <tr style=\"text-align: right;\">\n",
       "      <th></th>\n",
       "      <th>Unnamed: 0</th>\n",
       "      <th>pce</th>\n",
       "      <th>pop</th>\n",
       "      <th>psavert</th>\n",
       "      <th>uempmed</th>\n",
       "      <th>unemploy</th>\n",
       "    </tr>\n",
       "  </thead>\n",
       "  <tbody>\n",
       "    <tr>\n",
       "      <th>count</th>\n",
       "      <td>478.000000</td>\n",
       "      <td>478.000000</td>\n",
       "      <td>478.000000</td>\n",
       "      <td>478.000000</td>\n",
       "      <td>478.000000</td>\n",
       "      <td>478.000000</td>\n",
       "    </tr>\n",
       "    <tr>\n",
       "      <th>mean</th>\n",
       "      <td>239.500000</td>\n",
       "      <td>3654.230962</td>\n",
       "      <td>246348.939331</td>\n",
       "      <td>6.721130</td>\n",
       "      <td>7.124059</td>\n",
       "      <td>6997.177824</td>\n",
       "    </tr>\n",
       "    <tr>\n",
       "      <th>std</th>\n",
       "      <td>138.130976</td>\n",
       "      <td>2609.656755</td>\n",
       "      <td>30126.735749</td>\n",
       "      <td>3.476889</td>\n",
       "      <td>1.640329</td>\n",
       "      <td>1859.035642</td>\n",
       "    </tr>\n",
       "    <tr>\n",
       "      <th>min</th>\n",
       "      <td>1.000000</td>\n",
       "      <td>507.800000</td>\n",
       "      <td>198712.000000</td>\n",
       "      <td>-3.000000</td>\n",
       "      <td>4.000000</td>\n",
       "      <td>2685.000000</td>\n",
       "    </tr>\n",
       "    <tr>\n",
       "      <th>25%</th>\n",
       "      <td>120.250000</td>\n",
       "      <td>1272.450000</td>\n",
       "      <td>220094.250000</td>\n",
       "      <td>4.000000</td>\n",
       "      <td>5.800000</td>\n",
       "      <td>6052.500000</td>\n",
       "    </tr>\n",
       "    <tr>\n",
       "      <th>50%</th>\n",
       "      <td>239.500000</td>\n",
       "      <td>3082.450000</td>\n",
       "      <td>242515.500000</td>\n",
       "      <td>7.600000</td>\n",
       "      <td>6.900000</td>\n",
       "      <td>7187.500000</td>\n",
       "    </tr>\n",
       "    <tr>\n",
       "      <th>75%</th>\n",
       "      <td>358.750000</td>\n",
       "      <td>5474.150000</td>\n",
       "      <td>272277.250000</td>\n",
       "      <td>9.500000</td>\n",
       "      <td>8.375000</td>\n",
       "      <td>8250.250000</td>\n",
       "    </tr>\n",
       "    <tr>\n",
       "      <th>max</th>\n",
       "      <td>478.000000</td>\n",
       "      <td>9705.000000</td>\n",
       "      <td>301913.000000</td>\n",
       "      <td>14.600000</td>\n",
       "      <td>12.300000</td>\n",
       "      <td>12051.000000</td>\n",
       "    </tr>\n",
       "  </tbody>\n",
       "</table>\n",
       "</div>"
      ],
      "text/plain": [
       "       Unnamed: 0          pce            pop     psavert     uempmed  \\\n",
       "count  478.000000   478.000000     478.000000  478.000000  478.000000   \n",
       "mean   239.500000  3654.230962  246348.939331    6.721130    7.124059   \n",
       "std    138.130976  2609.656755   30126.735749    3.476889    1.640329   \n",
       "min      1.000000   507.800000  198712.000000   -3.000000    4.000000   \n",
       "25%    120.250000  1272.450000  220094.250000    4.000000    5.800000   \n",
       "50%    239.500000  3082.450000  242515.500000    7.600000    6.900000   \n",
       "75%    358.750000  5474.150000  272277.250000    9.500000    8.375000   \n",
       "max    478.000000  9705.000000  301913.000000   14.600000   12.300000   \n",
       "\n",
       "           unemploy  \n",
       "count    478.000000  \n",
       "mean    6997.177824  \n",
       "std     1859.035642  \n",
       "min     2685.000000  \n",
       "25%     6052.500000  \n",
       "50%     7187.500000  \n",
       "75%     8250.250000  \n",
       "max    12051.000000  "
      ]
     },
     "execution_count": 67,
     "metadata": {},
     "output_type": "execute_result"
    }
   ],
   "source": [
    "f.describe()\n",
    "\n",
    "# mean - 6997.177824 (unemployment)"
   ]
  },
  {
   "cell_type": "code",
   "execution_count": 68,
   "metadata": {},
   "outputs": [],
   "source": [
    "# Feature and Target Selection\n",
    "\n",
    "X = f.iloc[:,:6]\n",
    "y = f['unemploy']"
   ]
  },
  {
   "cell_type": "markdown",
   "metadata": {},
   "source": [
    "## Data Cleaning"
   ]
  },
  {
   "cell_type": "code",
   "execution_count": 69,
   "metadata": {},
   "outputs": [
    {
     "data": {
      "text/html": [
       "<div>\n",
       "<style scoped>\n",
       "    .dataframe tbody tr th:only-of-type {\n",
       "        vertical-align: middle;\n",
       "    }\n",
       "\n",
       "    .dataframe tbody tr th {\n",
       "        vertical-align: top;\n",
       "    }\n",
       "\n",
       "    .dataframe thead th {\n",
       "        text-align: right;\n",
       "    }\n",
       "</style>\n",
       "<table border=\"1\" class=\"dataframe\">\n",
       "  <thead>\n",
       "    <tr style=\"text-align: right;\">\n",
       "      <th></th>\n",
       "      <th>Unnamed: 0</th>\n",
       "      <th>date</th>\n",
       "      <th>pce</th>\n",
       "      <th>pop</th>\n",
       "      <th>psavert</th>\n",
       "      <th>uempmed</th>\n",
       "    </tr>\n",
       "  </thead>\n",
       "  <tbody>\n",
       "    <tr>\n",
       "      <th>0</th>\n",
       "      <td>1</td>\n",
       "      <td>1967-06-30</td>\n",
       "      <td>507.8</td>\n",
       "      <td>198712</td>\n",
       "      <td>9.8</td>\n",
       "      <td>4.5</td>\n",
       "    </tr>\n",
       "    <tr>\n",
       "      <th>1</th>\n",
       "      <td>2</td>\n",
       "      <td>1967-07-31</td>\n",
       "      <td>510.9</td>\n",
       "      <td>198911</td>\n",
       "      <td>9.8</td>\n",
       "      <td>4.7</td>\n",
       "    </tr>\n",
       "    <tr>\n",
       "      <th>2</th>\n",
       "      <td>3</td>\n",
       "      <td>1967-08-31</td>\n",
       "      <td>516.7</td>\n",
       "      <td>199113</td>\n",
       "      <td>9.0</td>\n",
       "      <td>4.6</td>\n",
       "    </tr>\n",
       "    <tr>\n",
       "      <th>3</th>\n",
       "      <td>4</td>\n",
       "      <td>1967-09-30</td>\n",
       "      <td>513.3</td>\n",
       "      <td>199311</td>\n",
       "      <td>9.8</td>\n",
       "      <td>4.9</td>\n",
       "    </tr>\n",
       "    <tr>\n",
       "      <th>4</th>\n",
       "      <td>5</td>\n",
       "      <td>1967-10-31</td>\n",
       "      <td>518.5</td>\n",
       "      <td>199498</td>\n",
       "      <td>9.7</td>\n",
       "      <td>4.7</td>\n",
       "    </tr>\n",
       "    <tr>\n",
       "      <th>...</th>\n",
       "      <td>...</td>\n",
       "      <td>...</td>\n",
       "      <td>...</td>\n",
       "      <td>...</td>\n",
       "      <td>...</td>\n",
       "      <td>...</td>\n",
       "    </tr>\n",
       "    <tr>\n",
       "      <th>473</th>\n",
       "      <td>474</td>\n",
       "      <td>2006-11-30</td>\n",
       "      <td>9478.5</td>\n",
       "      <td>301070</td>\n",
       "      <td>-1.1</td>\n",
       "      <td>7.3</td>\n",
       "    </tr>\n",
       "    <tr>\n",
       "      <th>474</th>\n",
       "      <td>475</td>\n",
       "      <td>2006-12-31</td>\n",
       "      <td>9540.3</td>\n",
       "      <td>301296</td>\n",
       "      <td>-0.9</td>\n",
       "      <td>8.1</td>\n",
       "    </tr>\n",
       "    <tr>\n",
       "      <th>475</th>\n",
       "      <td>476</td>\n",
       "      <td>2007-01-31</td>\n",
       "      <td>9610.6</td>\n",
       "      <td>301481</td>\n",
       "      <td>-1.0</td>\n",
       "      <td>8.1</td>\n",
       "    </tr>\n",
       "    <tr>\n",
       "      <th>476</th>\n",
       "      <td>477</td>\n",
       "      <td>2007-02-28</td>\n",
       "      <td>9653.0</td>\n",
       "      <td>301684</td>\n",
       "      <td>-0.7</td>\n",
       "      <td>8.5</td>\n",
       "    </tr>\n",
       "    <tr>\n",
       "      <th>477</th>\n",
       "      <td>478</td>\n",
       "      <td>2007-03-31</td>\n",
       "      <td>9705.0</td>\n",
       "      <td>301913</td>\n",
       "      <td>-1.3</td>\n",
       "      <td>8.7</td>\n",
       "    </tr>\n",
       "  </tbody>\n",
       "</table>\n",
       "<p>478 rows × 6 columns</p>\n",
       "</div>"
      ],
      "text/plain": [
       "     Unnamed: 0        date     pce     pop  psavert  uempmed\n",
       "0             1  1967-06-30   507.8  198712      9.8      4.5\n",
       "1             2  1967-07-31   510.9  198911      9.8      4.7\n",
       "2             3  1967-08-31   516.7  199113      9.0      4.6\n",
       "3             4  1967-09-30   513.3  199311      9.8      4.9\n",
       "4             5  1967-10-31   518.5  199498      9.7      4.7\n",
       "..          ...         ...     ...     ...      ...      ...\n",
       "473         474  2006-11-30  9478.5  301070     -1.1      7.3\n",
       "474         475  2006-12-31  9540.3  301296     -0.9      8.1\n",
       "475         476  2007-01-31  9610.6  301481     -1.0      8.1\n",
       "476         477  2007-02-28  9653.0  301684     -0.7      8.5\n",
       "477         478  2007-03-31  9705.0  301913     -1.3      8.7\n",
       "\n",
       "[478 rows x 6 columns]"
      ]
     },
     "execution_count": 69,
     "metadata": {},
     "output_type": "execute_result"
    }
   ],
   "source": [
    "# Change the index value to Unnamed:0\n",
    "\n",
    "X"
   ]
  },
  {
   "cell_type": "code",
   "execution_count": 70,
   "metadata": {},
   "outputs": [
    {
     "data": {
      "text/html": [
       "<div>\n",
       "<style scoped>\n",
       "    .dataframe tbody tr th:only-of-type {\n",
       "        vertical-align: middle;\n",
       "    }\n",
       "\n",
       "    .dataframe tbody tr th {\n",
       "        vertical-align: top;\n",
       "    }\n",
       "\n",
       "    .dataframe thead th {\n",
       "        text-align: right;\n",
       "    }\n",
       "</style>\n",
       "<table border=\"1\" class=\"dataframe\">\n",
       "  <thead>\n",
       "    <tr style=\"text-align: right;\">\n",
       "      <th></th>\n",
       "      <th>date</th>\n",
       "      <th>pce</th>\n",
       "      <th>pop</th>\n",
       "      <th>psavert</th>\n",
       "      <th>uempmed</th>\n",
       "    </tr>\n",
       "    <tr>\n",
       "      <th>Unnamed: 0</th>\n",
       "      <th></th>\n",
       "      <th></th>\n",
       "      <th></th>\n",
       "      <th></th>\n",
       "      <th></th>\n",
       "    </tr>\n",
       "  </thead>\n",
       "  <tbody>\n",
       "    <tr>\n",
       "      <th>1</th>\n",
       "      <td>1967-06-30</td>\n",
       "      <td>507.8</td>\n",
       "      <td>198712</td>\n",
       "      <td>9.8</td>\n",
       "      <td>4.5</td>\n",
       "    </tr>\n",
       "    <tr>\n",
       "      <th>2</th>\n",
       "      <td>1967-07-31</td>\n",
       "      <td>510.9</td>\n",
       "      <td>198911</td>\n",
       "      <td>9.8</td>\n",
       "      <td>4.7</td>\n",
       "    </tr>\n",
       "    <tr>\n",
       "      <th>3</th>\n",
       "      <td>1967-08-31</td>\n",
       "      <td>516.7</td>\n",
       "      <td>199113</td>\n",
       "      <td>9.0</td>\n",
       "      <td>4.6</td>\n",
       "    </tr>\n",
       "    <tr>\n",
       "      <th>4</th>\n",
       "      <td>1967-09-30</td>\n",
       "      <td>513.3</td>\n",
       "      <td>199311</td>\n",
       "      <td>9.8</td>\n",
       "      <td>4.9</td>\n",
       "    </tr>\n",
       "    <tr>\n",
       "      <th>5</th>\n",
       "      <td>1967-10-31</td>\n",
       "      <td>518.5</td>\n",
       "      <td>199498</td>\n",
       "      <td>9.7</td>\n",
       "      <td>4.7</td>\n",
       "    </tr>\n",
       "    <tr>\n",
       "      <th>...</th>\n",
       "      <td>...</td>\n",
       "      <td>...</td>\n",
       "      <td>...</td>\n",
       "      <td>...</td>\n",
       "      <td>...</td>\n",
       "    </tr>\n",
       "    <tr>\n",
       "      <th>474</th>\n",
       "      <td>2006-11-30</td>\n",
       "      <td>9478.5</td>\n",
       "      <td>301070</td>\n",
       "      <td>-1.1</td>\n",
       "      <td>7.3</td>\n",
       "    </tr>\n",
       "    <tr>\n",
       "      <th>475</th>\n",
       "      <td>2006-12-31</td>\n",
       "      <td>9540.3</td>\n",
       "      <td>301296</td>\n",
       "      <td>-0.9</td>\n",
       "      <td>8.1</td>\n",
       "    </tr>\n",
       "    <tr>\n",
       "      <th>476</th>\n",
       "      <td>2007-01-31</td>\n",
       "      <td>9610.6</td>\n",
       "      <td>301481</td>\n",
       "      <td>-1.0</td>\n",
       "      <td>8.1</td>\n",
       "    </tr>\n",
       "    <tr>\n",
       "      <th>477</th>\n",
       "      <td>2007-02-28</td>\n",
       "      <td>9653.0</td>\n",
       "      <td>301684</td>\n",
       "      <td>-0.7</td>\n",
       "      <td>8.5</td>\n",
       "    </tr>\n",
       "    <tr>\n",
       "      <th>478</th>\n",
       "      <td>2007-03-31</td>\n",
       "      <td>9705.0</td>\n",
       "      <td>301913</td>\n",
       "      <td>-1.3</td>\n",
       "      <td>8.7</td>\n",
       "    </tr>\n",
       "  </tbody>\n",
       "</table>\n",
       "<p>478 rows × 5 columns</p>\n",
       "</div>"
      ],
      "text/plain": [
       "                  date     pce     pop  psavert  uempmed\n",
       "Unnamed: 0                                              \n",
       "1           1967-06-30   507.8  198712      9.8      4.5\n",
       "2           1967-07-31   510.9  198911      9.8      4.7\n",
       "3           1967-08-31   516.7  199113      9.0      4.6\n",
       "4           1967-09-30   513.3  199311      9.8      4.9\n",
       "5           1967-10-31   518.5  199498      9.7      4.7\n",
       "...                ...     ...     ...      ...      ...\n",
       "474         2006-11-30  9478.5  301070     -1.1      7.3\n",
       "475         2006-12-31  9540.3  301296     -0.9      8.1\n",
       "476         2007-01-31  9610.6  301481     -1.0      8.1\n",
       "477         2007-02-28  9653.0  301684     -0.7      8.5\n",
       "478         2007-03-31  9705.0  301913     -1.3      8.7\n",
       "\n",
       "[478 rows x 5 columns]"
      ]
     },
     "execution_count": 70,
     "metadata": {},
     "output_type": "execute_result"
    }
   ],
   "source": [
    "X = X.set_index('Unnamed: 0')\n",
    "X"
   ]
  },
  {
   "cell_type": "markdown",
   "metadata": {},
   "source": [
    "## Feature Scaling"
   ]
  },
  {
   "cell_type": "markdown",
   "metadata": {},
   "source": [
    "We have to normalize the data. This is done because the units of the variables differ significantly and may influence the modeling process. To prevent this, we will do normalization via scaling of the predictors between 0 and 1.\n"
   ]
  },
  {
   "cell_type": "code",
   "execution_count": 71,
   "metadata": {},
   "outputs": [
    {
     "data": {
      "text/html": [
       "<div>\n",
       "<style scoped>\n",
       "    .dataframe tbody tr th:only-of-type {\n",
       "        vertical-align: middle;\n",
       "    }\n",
       "\n",
       "    .dataframe tbody tr th {\n",
       "        vertical-align: top;\n",
       "    }\n",
       "\n",
       "    .dataframe thead th {\n",
       "        text-align: right;\n",
       "    }\n",
       "</style>\n",
       "<table border=\"1\" class=\"dataframe\">\n",
       "  <thead>\n",
       "    <tr style=\"text-align: right;\">\n",
       "      <th></th>\n",
       "      <th>pce</th>\n",
       "      <th>pop</th>\n",
       "      <th>psavert</th>\n",
       "      <th>uempmed</th>\n",
       "    </tr>\n",
       "    <tr>\n",
       "      <th>Unnamed: 0</th>\n",
       "      <th></th>\n",
       "      <th></th>\n",
       "      <th></th>\n",
       "      <th></th>\n",
       "    </tr>\n",
       "  </thead>\n",
       "  <tbody>\n",
       "    <tr>\n",
       "      <th>1</th>\n",
       "      <td>507.8</td>\n",
       "      <td>198712</td>\n",
       "      <td>9.8</td>\n",
       "      <td>4.5</td>\n",
       "    </tr>\n",
       "    <tr>\n",
       "      <th>2</th>\n",
       "      <td>510.9</td>\n",
       "      <td>198911</td>\n",
       "      <td>9.8</td>\n",
       "      <td>4.7</td>\n",
       "    </tr>\n",
       "    <tr>\n",
       "      <th>3</th>\n",
       "      <td>516.7</td>\n",
       "      <td>199113</td>\n",
       "      <td>9.0</td>\n",
       "      <td>4.6</td>\n",
       "    </tr>\n",
       "    <tr>\n",
       "      <th>4</th>\n",
       "      <td>513.3</td>\n",
       "      <td>199311</td>\n",
       "      <td>9.8</td>\n",
       "      <td>4.9</td>\n",
       "    </tr>\n",
       "    <tr>\n",
       "      <th>5</th>\n",
       "      <td>518.5</td>\n",
       "      <td>199498</td>\n",
       "      <td>9.7</td>\n",
       "      <td>4.7</td>\n",
       "    </tr>\n",
       "    <tr>\n",
       "      <th>...</th>\n",
       "      <td>...</td>\n",
       "      <td>...</td>\n",
       "      <td>...</td>\n",
       "      <td>...</td>\n",
       "    </tr>\n",
       "    <tr>\n",
       "      <th>474</th>\n",
       "      <td>9478.5</td>\n",
       "      <td>301070</td>\n",
       "      <td>-1.1</td>\n",
       "      <td>7.3</td>\n",
       "    </tr>\n",
       "    <tr>\n",
       "      <th>475</th>\n",
       "      <td>9540.3</td>\n",
       "      <td>301296</td>\n",
       "      <td>-0.9</td>\n",
       "      <td>8.1</td>\n",
       "    </tr>\n",
       "    <tr>\n",
       "      <th>476</th>\n",
       "      <td>9610.6</td>\n",
       "      <td>301481</td>\n",
       "      <td>-1.0</td>\n",
       "      <td>8.1</td>\n",
       "    </tr>\n",
       "    <tr>\n",
       "      <th>477</th>\n",
       "      <td>9653.0</td>\n",
       "      <td>301684</td>\n",
       "      <td>-0.7</td>\n",
       "      <td>8.5</td>\n",
       "    </tr>\n",
       "    <tr>\n",
       "      <th>478</th>\n",
       "      <td>9705.0</td>\n",
       "      <td>301913</td>\n",
       "      <td>-1.3</td>\n",
       "      <td>8.7</td>\n",
       "    </tr>\n",
       "  </tbody>\n",
       "</table>\n",
       "<p>478 rows × 4 columns</p>\n",
       "</div>"
      ],
      "text/plain": [
       "               pce     pop  psavert  uempmed\n",
       "Unnamed: 0                                  \n",
       "1            507.8  198712      9.8      4.5\n",
       "2            510.9  198911      9.8      4.7\n",
       "3            516.7  199113      9.0      4.6\n",
       "4            513.3  199311      9.8      4.9\n",
       "5            518.5  199498      9.7      4.7\n",
       "...            ...     ...      ...      ...\n",
       "474         9478.5  301070     -1.1      7.3\n",
       "475         9540.3  301296     -0.9      8.1\n",
       "476         9610.6  301481     -1.0      8.1\n",
       "477         9653.0  301684     -0.7      8.5\n",
       "478         9705.0  301913     -1.3      8.7\n",
       "\n",
       "[478 rows x 4 columns]"
      ]
     },
     "execution_count": 71,
     "metadata": {},
     "output_type": "execute_result"
    }
   ],
   "source": [
    "# When you get the following error: \n",
    "# ValueError: could not convert string to float: '1967-06-30'\n",
    "# discard string columns \n",
    "\n",
    "X = X.drop(['date'],axis=1)\n",
    "X"
   ]
  },
  {
   "cell_type": "code",
   "execution_count": 72,
   "metadata": {},
   "outputs": [
    {
     "data": {
      "text/plain": [
       "Index(['pce', 'pop', 'psavert', 'uempmed'], dtype='object')"
      ]
     },
     "execution_count": 72,
     "metadata": {},
     "output_type": "execute_result"
    }
   ],
   "source": [
    "c = X.columns\n",
    "X = pd.DataFrame(scale(X))\n",
    "X.columns=c\n",
    "X.columns\n",
    "\n",
    "# rescaling the features such that they have the properties of a standard normal distribution "
   ]
  },
  {
   "cell_type": "code",
   "execution_count": 73,
   "metadata": {},
   "outputs": [
    {
     "data": {
      "text/html": [
       "<div>\n",
       "<style scoped>\n",
       "    .dataframe tbody tr th:only-of-type {\n",
       "        vertical-align: middle;\n",
       "    }\n",
       "\n",
       "    .dataframe tbody tr th {\n",
       "        vertical-align: top;\n",
       "    }\n",
       "\n",
       "    .dataframe thead th {\n",
       "        text-align: right;\n",
       "    }\n",
       "</style>\n",
       "<table border=\"1\" class=\"dataframe\">\n",
       "  <thead>\n",
       "    <tr style=\"text-align: right;\">\n",
       "      <th></th>\n",
       "      <th>pce</th>\n",
       "      <th>pop</th>\n",
       "      <th>psavert</th>\n",
       "      <th>uempmed</th>\n",
       "    </tr>\n",
       "  </thead>\n",
       "  <tbody>\n",
       "    <tr>\n",
       "      <th>0</th>\n",
       "      <td>-1.206951</td>\n",
       "      <td>-1.582875</td>\n",
       "      <td>0.886452</td>\n",
       "      <td>-1.601391</td>\n",
       "    </tr>\n",
       "    <tr>\n",
       "      <th>1</th>\n",
       "      <td>-1.205762</td>\n",
       "      <td>-1.576262</td>\n",
       "      <td>0.886452</td>\n",
       "      <td>-1.479337</td>\n",
       "    </tr>\n",
       "    <tr>\n",
       "      <th>2</th>\n",
       "      <td>-1.203537</td>\n",
       "      <td>-1.569550</td>\n",
       "      <td>0.656120</td>\n",
       "      <td>-1.540364</td>\n",
       "    </tr>\n",
       "    <tr>\n",
       "      <th>3</th>\n",
       "      <td>-1.204841</td>\n",
       "      <td>-1.562971</td>\n",
       "      <td>0.886452</td>\n",
       "      <td>-1.357282</td>\n",
       "    </tr>\n",
       "    <tr>\n",
       "      <th>4</th>\n",
       "      <td>-1.202846</td>\n",
       "      <td>-1.556758</td>\n",
       "      <td>0.857661</td>\n",
       "      <td>-1.479337</td>\n",
       "    </tr>\n",
       "    <tr>\n",
       "      <th>...</th>\n",
       "      <td>...</td>\n",
       "      <td>...</td>\n",
       "      <td>...</td>\n",
       "      <td>...</td>\n",
       "    </tr>\n",
       "    <tr>\n",
       "      <th>473</th>\n",
       "      <td>2.234152</td>\n",
       "      <td>1.818265</td>\n",
       "      <td>-2.251819</td>\n",
       "      <td>0.107372</td>\n",
       "    </tr>\n",
       "    <tr>\n",
       "      <th>474</th>\n",
       "      <td>2.257859</td>\n",
       "      <td>1.825775</td>\n",
       "      <td>-2.194236</td>\n",
       "      <td>0.595590</td>\n",
       "    </tr>\n",
       "    <tr>\n",
       "      <th>475</th>\n",
       "      <td>2.284825</td>\n",
       "      <td>1.831922</td>\n",
       "      <td>-2.223027</td>\n",
       "      <td>0.595590</td>\n",
       "    </tr>\n",
       "    <tr>\n",
       "      <th>476</th>\n",
       "      <td>2.301090</td>\n",
       "      <td>1.838667</td>\n",
       "      <td>-2.136653</td>\n",
       "      <td>0.839699</td>\n",
       "    </tr>\n",
       "    <tr>\n",
       "      <th>477</th>\n",
       "      <td>2.321036</td>\n",
       "      <td>1.846276</td>\n",
       "      <td>-2.309402</td>\n",
       "      <td>0.961754</td>\n",
       "    </tr>\n",
       "  </tbody>\n",
       "</table>\n",
       "<p>478 rows × 4 columns</p>\n",
       "</div>"
      ],
      "text/plain": [
       "          pce       pop   psavert   uempmed\n",
       "0   -1.206951 -1.582875  0.886452 -1.601391\n",
       "1   -1.205762 -1.576262  0.886452 -1.479337\n",
       "2   -1.203537 -1.569550  0.656120 -1.540364\n",
       "3   -1.204841 -1.562971  0.886452 -1.357282\n",
       "4   -1.202846 -1.556758  0.857661 -1.479337\n",
       "..        ...       ...       ...       ...\n",
       "473  2.234152  1.818265 -2.251819  0.107372\n",
       "474  2.257859  1.825775 -2.194236  0.595590\n",
       "475  2.284825  1.831922 -2.223027  0.595590\n",
       "476  2.301090  1.838667 -2.136653  0.839699\n",
       "477  2.321036  1.846276 -2.309402  0.961754\n",
       "\n",
       "[478 rows x 4 columns]"
      ]
     },
     "execution_count": 73,
     "metadata": {},
     "output_type": "execute_result"
    }
   ],
   "source": [
    "X\n",
    "\n",
    "# change: with Std. Normal Distribution"
   ]
  },
  {
   "cell_type": "markdown",
   "metadata": {},
   "source": [
    "## Model Training"
   ]
  },
  {
   "cell_type": "code",
   "execution_count": 74,
   "metadata": {},
   "outputs": [],
   "source": [
    "# holdout-validation method\n",
    "\n",
    "# splits the data into training and test dataset.\n",
    "\n",
    "X_train, X_test, y_train, y_test = train_test_split(X, y, test_size=0.20, random_state=40)"
   ]
  },
  {
   "cell_type": "code",
   "execution_count": 75,
   "metadata": {},
   "outputs": [
    {
     "name": "stdout",
     "output_type": "stream",
     "text": [
      "(382, 4)\n",
      "(96, 4)\n"
     ]
    }
   ],
   "source": [
    "# check the shape of the Training and Test Data\n",
    "\n",
    "print(X_train.shape); print(X_test.shape)"
   ]
  },
  {
   "cell_type": "markdown",
   "metadata": {},
   "source": [
    "## Model Building - Linear Regression"
   ]
  },
  {
   "cell_type": "code",
   "execution_count": 76,
   "metadata": {},
   "outputs": [
    {
     "data": {
      "text/plain": [
       "LinearRegression()"
      ]
     },
     "execution_count": 76,
     "metadata": {},
     "output_type": "execute_result"
    }
   ],
   "source": [
    "regressor = LinearRegression()\n",
    "\n",
    "regressor.fit(X_train, y_train)"
   ]
  },
  {
   "cell_type": "code",
   "execution_count": 78,
   "metadata": {},
   "outputs": [
    {
     "name": "stdout",
     "output_type": "stream",
     "text": [
      "751.2331536698186\n",
      "0.8338622166918239\n"
     ]
    }
   ],
   "source": [
    "# Predict with Training and Test dataset\n",
    "\n",
    "predict_train = regressor.predict(X_train)\n",
    "print(np.sqrt(mean_squared_error(y_train,predict_train)))\n",
    "print(r2_score(y_train, predict_train))\n"
   ]
  },
  {
   "cell_type": "code",
   "execution_count": 80,
   "metadata": {},
   "outputs": [
    {
     "name": "stdout",
     "output_type": "stream",
     "text": [
      "795.9051763384305\n",
      "0.8266727213127318\n"
     ]
    }
   ],
   "source": [
    "predict_test = regressor.predict(X_test)\n",
    "print(np.sqrt(mean_squared_error(y_test,predict_test))) \n",
    "print(r2_score(y_test, predict_test))"
   ]
  },
  {
   "cell_type": "markdown",
   "metadata": {},
   "source": [
    " It prints evaluation metrics: RMSE and R-squared on the training set.<br>\n",
    " ```The evaluation metrics is above 80% which shows a good performance```"
   ]
  },
  {
   "cell_type": "markdown",
   "metadata": {},
   "source": [
    "## Model Building - Ridge Regression"
   ]
  },
  {
   "cell_type": "markdown",
   "metadata": {},
   "source": [
    "It is done by adding a penalty parameter that is equivalent to the square of the magnitude of the coefficients."
   ]
  },
  {
   "cell_type": "markdown",
   "metadata": {},
   "source": [
    "```Loss function = OLS + alpha * summation (squared coefficient values)```"
   ]
  },
  {
   "cell_type": "code",
   "execution_count": 89,
   "metadata": {},
   "outputs": [],
   "source": [
    "ridge = Ridge(alpha=0.01)\n",
    "\n",
    "# Select a suitable alpha value."
   ]
  },
  {
   "cell_type": "code",
   "execution_count": 87,
   "metadata": {},
   "outputs": [],
   "source": [
    "## A low alpha value can lead to over-fitting,\n",
    "## a high alpha value can lead to under-fitting."
   ]
  },
  {
   "cell_type": "code",
   "execution_count": 91,
   "metadata": {},
   "outputs": [
    {
     "data": {
      "text/plain": [
       "Ridge(alpha=0.01)"
      ]
     },
     "execution_count": 91,
     "metadata": {},
     "output_type": "execute_result"
    }
   ],
   "source": [
    "ridge.fit(X_train, y_train)\n",
    "# fits the model to the training data."
   ]
  },
  {
   "cell_type": "code",
   "execution_count": 94,
   "metadata": {},
   "outputs": [
    {
     "name": "stdout",
     "output_type": "stream",
     "text": [
      "751.2341729834667\n",
      "0.8338617658421136\n"
     ]
    }
   ],
   "source": [
    "predict_train_ridge = ridge.predict(X_train)\n",
    "# predicting the training model\n",
    "\n",
    "print(np.sqrt(mean_squared_error(y_train,predict_train_ridge)))\n",
    "print(r2_score(y_train, predict_train_ridge))"
   ]
  },
  {
   "cell_type": "code",
   "execution_count": 95,
   "metadata": {},
   "outputs": [
    {
     "name": "stdout",
     "output_type": "stream",
     "text": [
      "795.835897465616\n",
      "0.8267028942434855\n"
     ]
    }
   ],
   "source": [
    "predict_test_ridge= ridge.predict(X_test)\n",
    "# predicting the test model\n",
    "\n",
    "print(np.sqrt(mean_squared_error(y_test,predict_test_ridge))) \n",
    "print(r2_score(y_test, predict_test_ridge))"
   ]
  },
  {
   "cell_type": "code",
   "execution_count": null,
   "metadata": {},
   "outputs": [],
   "source": []
  }
 ],
 "metadata": {
  "kernelspec": {
   "display_name": "Python 3",
   "language": "python",
   "name": "python3"
  },
  "language_info": {
   "codemirror_mode": {
    "name": "ipython",
    "version": 3
   },
   "file_extension": ".py",
   "mimetype": "text/x-python",
   "name": "python",
   "nbconvert_exporter": "python",
   "pygments_lexer": "ipython3",
   "version": "3.8.1"
  }
 },
 "nbformat": 4,
 "nbformat_minor": 4
}
